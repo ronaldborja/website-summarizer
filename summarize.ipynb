{
  "nbformat": 4,
  "nbformat_minor": 0,
  "metadata": {
    "colab": {
      "provenance": []
    },
    "kernelspec": {
      "name": "python3",
      "display_name": "Python 3"
    },
    "language_info": {
      "name": "python"
    }
  },
  "cells": [
    {
      "cell_type": "code",
      "source": [
        "# Using an LLM to do website summatization - basic use case\n",
        "!pip install firecrawl-py -q\n",
        "!pip install requests -q\n",
        "!pip install ipython -q\n",
        "!pip install openai -q"
      ],
      "metadata": {
        "id": "fxT8Jxlcj4c5"
      },
      "execution_count": 2,
      "outputs": []
    },
    {
      "cell_type": "code",
      "source": [
        "# IMPORTS\n",
        "import os\n",
        "import requests\n",
        "from IPython.display import Markdown, display\n",
        "from openai import OpenAI\n",
        "from google.colab import userdata\n",
        "from firecrawl import FirecrawlApp"
      ],
      "metadata": {
        "id": "ACBnhqwKsDvn"
      },
      "execution_count": 4,
      "outputs": []
    },
    {
      "cell_type": "code",
      "source": [
        "class Summarizer:\n",
        "  def __init__(self, url, openai_key, firecrawl_key):\n",
        "    self.url = url\n",
        "    self.openai_key = openai_key\n",
        "    self.firecrawl_key = firecrawl_key\n",
        "\n",
        "  def check_apis(self):\n",
        "    if not self.openai_key:\n",
        "      raise ValueError(\"OpenAI key is missing\")\n",
        "    if not self.firecrawl_key:\n",
        "      raise ValueError(\"Firecrawl key is missing\")\n",
        "    if not self.openai_key.starswith(\"sk-proj-\"):\n",
        "      print(\"An API key was found, but it doesn't start sk-proj-; please check you open ai key\")\n",
        "    if not self.firecrawl_key.starswith(\"fc-\"):\n",
        "      print(\"An API key was found, but it doesn't start fc-; please check you firecrawl key\")\n",
        "\n",
        "  def scrape(self):\n",
        "    app = FirecrawlApp(api_key=self.firecrawl_key)\n",
        "    page = app.scrape_url(self.url, params={'formats': ['markdown', 'html']})\n",
        "    self.page_mk = page[\"markdown\"]\n",
        "    return self.page_mk\n",
        "\n",
        "  def prompts(self):\n",
        "    self.scrape()\n",
        "    self.system_prompt =  \"You are an assistant that analyzes the contents of a website \\\n",
        "    and provides a short summary, ignoring text that might be navigation related. \\\n",
        "    Respond in markdown.\"\n",
        "\n",
        "    self.user_prompt = \"\\nThe contents of this website is as follows; \\\n",
        "    please provide a short summary of this website in markdown. \\\n",
        "    If it includes news or announcements, then summarize these too.\\n\\n\"\n",
        "\n",
        "    self.user_prompt += self.page_mk\n",
        "\n",
        "    return self.system_prompt, self.user_prompt\n",
        "\n",
        "  def messages_for(self):\n",
        "    self.prompts()\n",
        "    return [{\n",
        "        \"role\": \"system\",\n",
        "        \"content\": self.system_prompt\n",
        "    }, {\n",
        "        \"role\": \"user\",\n",
        "        \"content\": self.user_prompt\n",
        "    }]\n",
        "\n",
        "  def summarize(self):\n",
        "    openai = OpenAI(api_key=self.openai_key)\n",
        "    response = openai.chat.completions.create(\n",
        "        model = \"gpt-4o-mini\",\n",
        "        messages = self.messages_for()\n",
        "    )\n",
        "    return display(Markdown(response.choices[0].message.content))"
      ],
      "metadata": {
        "id": "OoyifK6YjcCC"
      },
      "execution_count": 20,
      "outputs": []
    },
    {
      "cell_type": "code",
      "source": [
        "# API KEYS:\n",
        "OPEN_AI_KEY = userdata.get('OPEN_AI_KEY')\n",
        "FIRECRAWL_KEY = userdata.get('FIRECRAWL_API_KEY')"
      ],
      "metadata": {
        "id": "Vv-vnpvlvl5C"
      },
      "execution_count": 9,
      "outputs": []
    },
    {
      "cell_type": "code",
      "source": [
        "sum = Summarizer(\"https://github.com/ronaldborja\", OPEN_AI_KEY, FIRECRAWL_KEY)\n",
        "sum.summarize()"
      ],
      "metadata": {
        "colab": {
          "base_uri": "https://localhost:8080/",
          "height": 512
        },
        "id": "yoNn252fv1HB",
        "outputId": "b16465d0-ec91-4e97-fa06-a2a216bb171d"
      },
      "execution_count": 22,
      "outputs": [
        {
          "output_type": "display_data",
          "data": {
            "text/plain": [
              "<IPython.core.display.Markdown object>"
            ],
            "text/markdown": "# Summary of the Website\n\nThe website is a GitHub profile belonging to Ronald Borja Román, a student of Chemical Engineering and Software Engineering from Colombia. He expresses an interest in the intersection of nature and AI, as well as various tech domains including web development, machine learning, optimization, bioprocesses, bioinformatics, cloud computing, and IoT.\n\n## Achievements and Interests\n- Ronald has received multiple GitHub achievements, indicating active participation in collaborative software projects.\n- He is open to networking as demonstrated by links to his LinkedIn and other social media accounts.\n\n## Projects\nRonald has several pinned repositories showcasing his projects:\n1. **chemsolid-app**: A desktop application that assists in sizing equipment for the solids industry.\n2. **house_price_prediction_api**: A full-stack application for predicting house prices using machine learning.\n3. **banking-system**: Development of a banking system utilizing various web technologies.\n4. **decision-tree-implementation**: A project focused on implementing decision trees from scratch.\n5. **app-inventory**: Software development for inventory management.\n6. **knn-implementation**: Implementation of a K-Nearest Neighbors model using numpy and pandas.\n\n## Contact Information\nRonald can be reached via email at [rborjaroman@gmail.com](mailto:rborjaroman@gmail.com). \n\nThis profile portrays a budding engineer actively engaging in community coding and open-source projects while exploring his interests in technology and engineering."
          },
          "metadata": {}
        }
      ]
    }
  ]
}